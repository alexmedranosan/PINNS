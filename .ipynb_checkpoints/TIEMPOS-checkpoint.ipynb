{
 "cells": [
  {
   "cell_type": "code",
   "execution_count": 1,
   "id": "ea4be11d-e3db-47f7-9f7b-6942ed298874",
   "metadata": {},
   "outputs": [
    {
     "name": "stderr",
     "output_type": "stream",
     "text": [
      "2022-08-28 18:31:07.563202: I tensorflow/stream_executor/platform/default/dso_loader.cc:49] Successfully opened dynamic library libcudart.so.10.1\n",
      "<frozen importlib._bootstrap>:228: RuntimeWarning: mpi4py.MPI.Status size changed, may indicate binary incompatibility. Expected 40 from C header, got 48 from PyObject\n",
      "<frozen importlib._bootstrap>:228: RuntimeWarning: mpi4py.MPI.Datatype size changed, may indicate binary incompatibility. Expected 24 from C header, got 32 from PyObject\n",
      "<frozen importlib._bootstrap>:228: RuntimeWarning: mpi4py.MPI.Request size changed, may indicate binary incompatibility. Expected 32 from C header, got 40 from PyObject\n",
      "<frozen importlib._bootstrap>:228: RuntimeWarning: mpi4py.MPI.Prequest size changed, may indicate binary incompatibility. Expected 32 from C header, got 40 from PyObject\n",
      "<frozen importlib._bootstrap>:228: RuntimeWarning: mpi4py.MPI.Grequest size changed, may indicate binary incompatibility. Expected 40 from C header, got 48 from PyObject\n",
      "<frozen importlib._bootstrap>:228: RuntimeWarning: mpi4py.MPI.Message size changed, may indicate binary incompatibility. Expected 32 from C header, got 40 from PyObject\n",
      "<frozen importlib._bootstrap>:228: RuntimeWarning: mpi4py.MPI.Op size changed, may indicate binary incompatibility. Expected 40 from C header, got 48 from PyObject\n",
      "<frozen importlib._bootstrap>:228: RuntimeWarning: mpi4py.MPI.Group size changed, may indicate binary incompatibility. Expected 24 from C header, got 32 from PyObject\n",
      "<frozen importlib._bootstrap>:228: RuntimeWarning: mpi4py.MPI.Info size changed, may indicate binary incompatibility. Expected 24 from C header, got 32 from PyObject\n",
      "<frozen importlib._bootstrap>:228: RuntimeWarning: mpi4py.MPI.Errhandler size changed, may indicate binary incompatibility. Expected 24 from C header, got 32 from PyObject\n",
      "<frozen importlib._bootstrap>:228: RuntimeWarning: mpi4py.MPI.Comm size changed, may indicate binary incompatibility. Expected 24 from C header, got 32 from PyObject\n",
      "<frozen importlib._bootstrap>:228: RuntimeWarning: mpi4py.MPI.Intracomm size changed, may indicate binary incompatibility. Expected 24 from C header, got 32 from PyObject\n",
      "<frozen importlib._bootstrap>:228: RuntimeWarning: mpi4py.MPI.Topocomm size changed, may indicate binary incompatibility. Expected 24 from C header, got 32 from PyObject\n",
      "<frozen importlib._bootstrap>:228: RuntimeWarning: mpi4py.MPI.Cartcomm size changed, may indicate binary incompatibility. Expected 24 from C header, got 32 from PyObject\n",
      "<frozen importlib._bootstrap>:228: RuntimeWarning: mpi4py.MPI.Graphcomm size changed, may indicate binary incompatibility. Expected 24 from C header, got 32 from PyObject\n",
      "<frozen importlib._bootstrap>:228: RuntimeWarning: mpi4py.MPI.Distgraphcomm size changed, may indicate binary incompatibility. Expected 24 from C header, got 32 from PyObject\n",
      "<frozen importlib._bootstrap>:228: RuntimeWarning: mpi4py.MPI.Intercomm size changed, may indicate binary incompatibility. Expected 24 from C header, got 32 from PyObject\n",
      "<frozen importlib._bootstrap>:228: RuntimeWarning: mpi4py.MPI.Win size changed, may indicate binary incompatibility. Expected 32 from C header, got 40 from PyObject\n",
      "<frozen importlib._bootstrap>:228: RuntimeWarning: mpi4py.MPI.File size changed, may indicate binary incompatibility. Expected 32 from C header, got 40 from PyObject\n"
     ]
    },
    {
     "name": "stdout",
     "output_type": "stream",
     "text": [
      "WARNING:tensorflow:From /tmp/ipykernel_988198/2000328670.py:38: is_gpu_available (from tensorflow.python.framework.test_util) is deprecated and will be removed in a future version.\n",
      "Instructions for updating:\n",
      "Use `tf.config.list_physical_devices('GPU')` instead.\n",
      "Is Tensorflow using GPU?  True\n"
     ]
    },
    {
     "name": "stderr",
     "output_type": "stream",
     "text": [
      "2022-08-28 18:31:09.055195: I tensorflow/core/platform/cpu_feature_guard.cc:142] This TensorFlow binary is optimized with oneAPI Deep Neural Network Library (oneDNN) to use the following CPU instructions in performance-critical operations:  SSE4.1 SSE4.2 AVX AVX2 AVX512F FMA\n",
      "To enable them in other operations, rebuild TensorFlow with the appropriate compiler flags.\n",
      "2022-08-28 18:31:09.057110: I tensorflow/compiler/jit/xla_gpu_device.cc:99] Not creating XLA devices, tf_xla_enable_xla_devices not set\n",
      "2022-08-28 18:31:09.058196: I tensorflow/stream_executor/platform/default/dso_loader.cc:49] Successfully opened dynamic library libcuda.so.1\n",
      "2022-08-28 18:31:09.101300: I tensorflow/core/common_runtime/gpu/gpu_device.cc:1720] Found device 0 with properties: \n",
      "pciBusID: 0000:3b:00.0 name: Quadro RTX 6000 computeCapability: 7.5\n",
      "coreClock: 1.77GHz coreCount: 72 deviceMemorySize: 23.65GiB deviceMemoryBandwidth: 625.94GiB/s\n",
      "2022-08-28 18:31:09.101334: I tensorflow/stream_executor/platform/default/dso_loader.cc:49] Successfully opened dynamic library libcudart.so.10.1\n",
      "2022-08-28 18:31:09.103328: I tensorflow/stream_executor/platform/default/dso_loader.cc:49] Successfully opened dynamic library libcublas.so.10\n",
      "2022-08-28 18:31:09.103397: I tensorflow/stream_executor/platform/default/dso_loader.cc:49] Successfully opened dynamic library libcublasLt.so.10\n",
      "2022-08-28 18:31:09.105179: I tensorflow/stream_executor/platform/default/dso_loader.cc:49] Successfully opened dynamic library libcufft.so.10\n",
      "2022-08-28 18:31:09.105473: I tensorflow/stream_executor/platform/default/dso_loader.cc:49] Successfully opened dynamic library libcurand.so.10\n",
      "2022-08-28 18:31:09.107474: I tensorflow/stream_executor/platform/default/dso_loader.cc:49] Successfully opened dynamic library libcusolver.so.10\n",
      "2022-08-28 18:31:09.108597: I tensorflow/stream_executor/platform/default/dso_loader.cc:49] Successfully opened dynamic library libcusparse.so.10\n",
      "2022-08-28 18:31:09.112895: I tensorflow/stream_executor/platform/default/dso_loader.cc:49] Successfully opened dynamic library libcudnn.so.7\n",
      "2022-08-28 18:31:09.114868: I tensorflow/core/common_runtime/gpu/gpu_device.cc:1862] Adding visible gpu devices: 0\n",
      "2022-08-28 18:31:09.114911: I tensorflow/stream_executor/platform/default/dso_loader.cc:49] Successfully opened dynamic library libcudart.so.10.1\n",
      "2022-08-28 18:31:09.790702: I tensorflow/core/common_runtime/gpu/gpu_device.cc:1261] Device interconnect StreamExecutor with strength 1 edge matrix:\n",
      "2022-08-28 18:31:09.790740: I tensorflow/core/common_runtime/gpu/gpu_device.cc:1267]      0 \n",
      "2022-08-28 18:31:09.790746: I tensorflow/core/common_runtime/gpu/gpu_device.cc:1280] 0:   N \n",
      "2022-08-28 18:31:09.793698: I tensorflow/core/common_runtime/gpu/gpu_device.cc:1406] Created TensorFlow device (/device:GPU:0 with 22472 MB memory) -> physical GPU (device: 0, name: Quadro RTX 6000, pci bus id: 0000:3b:00.0, compute capability: 7.5)\n",
      "2022-08-28 18:31:09.795198: I tensorflow/compiler/jit/xla_cpu_device.cc:41] Not creating XLA devices, tf_xla_enable_xla_devices not set\n",
      "2022-08-28 18:31:09.796238: I tensorflow/core/common_runtime/gpu/gpu_device.cc:1720] Found device 0 with properties: \n",
      "pciBusID: 0000:3b:00.0 name: Quadro RTX 6000 computeCapability: 7.5\n",
      "coreClock: 1.77GHz coreCount: 72 deviceMemorySize: 23.65GiB deviceMemoryBandwidth: 625.94GiB/s\n",
      "2022-08-28 18:31:09.796279: I tensorflow/stream_executor/platform/default/dso_loader.cc:49] Successfully opened dynamic library libcudart.so.10.1\n",
      "2022-08-28 18:31:09.796310: I tensorflow/stream_executor/platform/default/dso_loader.cc:49] Successfully opened dynamic library libcublas.so.10\n",
      "2022-08-28 18:31:09.796322: I tensorflow/stream_executor/platform/default/dso_loader.cc:49] Successfully opened dynamic library libcublasLt.so.10\n",
      "2022-08-28 18:31:09.796333: I tensorflow/stream_executor/platform/default/dso_loader.cc:49] Successfully opened dynamic library libcufft.so.10\n",
      "2022-08-28 18:31:09.796344: I tensorflow/stream_executor/platform/default/dso_loader.cc:49] Successfully opened dynamic library libcurand.so.10\n",
      "2022-08-28 18:31:09.796356: I tensorflow/stream_executor/platform/default/dso_loader.cc:49] Successfully opened dynamic library libcusolver.so.10\n",
      "2022-08-28 18:31:09.796367: I tensorflow/stream_executor/platform/default/dso_loader.cc:49] Successfully opened dynamic library libcusparse.so.10\n",
      "2022-08-28 18:31:09.796378: I tensorflow/stream_executor/platform/default/dso_loader.cc:49] Successfully opened dynamic library libcudnn.so.7\n",
      "2022-08-28 18:31:09.798142: I tensorflow/core/common_runtime/gpu/gpu_device.cc:1862] Adding visible gpu devices: 0\n",
      "2022-08-28 18:31:09.798446: I tensorflow/compiler/jit/xla_gpu_device.cc:99] Not creating XLA devices, tf_xla_enable_xla_devices not set\n",
      "2022-08-28 18:31:09.799391: I tensorflow/core/common_runtime/gpu/gpu_device.cc:1720] Found device 0 with properties: \n",
      "pciBusID: 0000:3b:00.0 name: Quadro RTX 6000 computeCapability: 7.5\n",
      "coreClock: 1.77GHz coreCount: 72 deviceMemorySize: 23.65GiB deviceMemoryBandwidth: 625.94GiB/s\n",
      "2022-08-28 18:31:09.799412: I tensorflow/stream_executor/platform/default/dso_loader.cc:49] Successfully opened dynamic library libcudart.so.10.1\n",
      "2022-08-28 18:31:09.799429: I tensorflow/stream_executor/platform/default/dso_loader.cc:49] Successfully opened dynamic library libcublas.so.10\n",
      "2022-08-28 18:31:09.799440: I tensorflow/stream_executor/platform/default/dso_loader.cc:49] Successfully opened dynamic library libcublasLt.so.10\n",
      "2022-08-28 18:31:09.799450: I tensorflow/stream_executor/platform/default/dso_loader.cc:49] Successfully opened dynamic library libcufft.so.10\n",
      "2022-08-28 18:31:09.799461: I tensorflow/stream_executor/platform/default/dso_loader.cc:49] Successfully opened dynamic library libcurand.so.10\n",
      "2022-08-28 18:31:09.799471: I tensorflow/stream_executor/platform/default/dso_loader.cc:49] Successfully opened dynamic library libcusolver.so.10\n",
      "2022-08-28 18:31:09.799482: I tensorflow/stream_executor/platform/default/dso_loader.cc:49] Successfully opened dynamic library libcusparse.so.10\n",
      "2022-08-28 18:31:09.799492: I tensorflow/stream_executor/platform/default/dso_loader.cc:49] Successfully opened dynamic library libcudnn.so.7\n",
      "2022-08-28 18:31:09.801237: I tensorflow/core/common_runtime/gpu/gpu_device.cc:1862] Adding visible gpu devices: 0\n",
      "2022-08-28 18:31:09.801262: I tensorflow/core/common_runtime/gpu/gpu_device.cc:1261] Device interconnect StreamExecutor with strength 1 edge matrix:\n",
      "2022-08-28 18:31:09.801267: I tensorflow/core/common_runtime/gpu/gpu_device.cc:1267]      0 \n",
      "2022-08-28 18:31:09.801272: I tensorflow/core/common_runtime/gpu/gpu_device.cc:1280] 0:   N \n",
      "2022-08-28 18:31:09.803057: I tensorflow/core/common_runtime/gpu/gpu_device.cc:1406] Created TensorFlow device (/job:localhost/replica:0/task:0/device:GPU:0 with 22472 MB memory) -> physical GPU (device: 0, name: Quadro RTX 6000, pci bus id: 0000:3b:00.0, compute capability: 7.5)\n"
     ]
    }
   ],
   "source": [
    "# System\n",
    "import os\n",
    "import sys\n",
    "\n",
    "# Error logging\n",
    "import logging\n",
    "\n",
    "# Numeric wrangling\n",
    "import numpy as np\n",
    "\n",
    "# Data plotting\n",
    "import matplotlib.pyplot as plt\n",
    "from matplotlib import cm\n",
    "from mpl_toolkits.mplot3d import Axes3D\n",
    "\n",
    "# Time execution\n",
    "import time\n",
    "\n",
    "# Models\n",
    "import tensorflow as tf\n",
    "\n",
    "# Data saving\n",
    "import h5py\n",
    "import logging\n",
    "\n",
    "# Numeric wrangling\n",
    "import numpy as np\n",
    "\n",
    "# Data plotting\n",
    "import matplotlib.pyplot as plt\n",
    "from matplotlib import cm\n",
    "from mpl_toolkits.mplot3d import Axes3D\n",
    "\n",
    "# Time execution\n",
    "import time\n",
    "from tqdm import tqdm\n",
    "\n",
    "print(\"Is Tensorflow using GPU? \", tf.test.is_gpu_available())\n",
    "os.environ[\"CUDA_DEVICE_ORDER\"]=\"PCI_BUS_ID\"\n",
    "os.environ[\"CUDA_VISIBLE_DEVICES\"]=\"0\"\n",
    "os.environ[\"TF_GPU_ALLOCATOR\"]=\"cuda_malloc_async\"\n",
    "\n",
    "# Set data type:\n",
    "DTYPE = \"float32\"\n",
    "tf.keras.backend.set_floatx(DTYPE)\n",
    "\n",
    "# Set constants\n",
    "gamma = 1.4\n",
    "\n",
    "# Set boundary\n",
    "tmin, tmax, xmin, xmax = 0., 0.2, 0., 1.0\n",
    "\n",
    "# Lower bounds and Upper bounds.\n",
    "lb, ub = tf.constant([tmin, xmin], dtype = DTYPE), tf.constant([tmax, xmax], dtype = DTYPE)\n",
    "# Set random seed for reproducible results.\n",
    "tf.random.set_seed(0)"
   ]
  },
  {
   "cell_type": "code",
   "execution_count": 2,
   "id": "c21c72de",
   "metadata": {},
   "outputs": [],
   "source": [
    "# Numerical solution calculation\n",
    "from __future__ import absolute_import\n",
    "from clawpack import riemann\n",
    "from clawpack.riemann.euler_with_efix_1D_constants import density, momentum, energy, num_eqn\n",
    "from clawpack import pyclaw"
   ]
  },
  {
   "cell_type": "markdown",
   "id": "06fdcfc0",
   "metadata": {},
   "source": [
    "# Distribucion pyclaw"
   ]
  },
  {
   "cell_type": "code",
   "execution_count": 3,
   "id": "2173648c",
   "metadata": {},
   "outputs": [],
   "source": [
    "# Ratio of specific heats\n",
    "gamma = 1.4\n",
    "\n",
    "n_sim = 100\n",
    "t_pyclaw = []"
   ]
  },
  {
   "cell_type": "code",
   "execution_count": 4,
   "id": "3f49a788",
   "metadata": {},
   "outputs": [
    {
     "name": "stderr",
     "output_type": "stream",
     "text": [
      "100%|█████████████████████████████████████████| 100/100 [31:20<00:00, 18.81s/it]\n"
     ]
    }
   ],
   "source": [
    "for _ in tqdm(range(n_sim)):\n",
    "    start = time.time()\n",
    "    logger = logging.getLogger('pyclaw')\n",
    "    logger.setLevel(logging.CRITICAL)\n",
    "\n",
    "    solver_type='classic'\n",
    "    kernel_language='Python'\n",
    "\n",
    "    if kernel_language =='Python':\n",
    "        rs = riemann.euler_1D_py.euler_hllc_1D\n",
    "    elif kernel_language =='Fortran':\n",
    "        rs = riemann.euler_hlle_1D\n",
    "\n",
    "    if solver_type=='sharpclaw':\n",
    "        solver = pyclaw.SharpClawSolver1D(rs)\n",
    "    elif solver_type=='classic':\n",
    "        solver = pyclaw.ClawSolver1D(rs)\n",
    "\n",
    "    solver.kernel_language = kernel_language\n",
    "    # Set the boundary conditions\n",
    "    solver.bc_lower[0]=pyclaw.BC.extrap\n",
    "    solver.bc_upper[0]=pyclaw.BC.extrap\n",
    "\n",
    "    # Define equations and variables to be simulated\n",
    "    mx = 8192\n",
    "    x = pyclaw.Dimension(0.,1.0,mx,name='x')\n",
    "    domain = pyclaw.Domain([x])\n",
    "    state = pyclaw.State(domain,num_eqn)\n",
    "\n",
    "    state.problem_data['gamma'] = gamma\n",
    "    state.problem_data['gamma1'] = gamma - 1.\n",
    "\n",
    "    x = state.grid.x.centers\n",
    "    rho_l = 1.; rho_r = 1./8\n",
    "    p_l = 1.; p_r = 0.1\n",
    "    state.q[density ,:] = (x<0.5)*rho_l + (x>=0.5)*rho_r\n",
    "    state.q[momentum,:] = 0.\n",
    "    velocity = state.q[momentum,:]/state.q[density,:]\n",
    "    pressure = (x<0.5)*p_l + (x>=0.5)*p_r\n",
    "    state.q[energy  ,:] = pressure/(gamma - 1.) + 0.5 * state.q[density,:] * velocity**2\n",
    "    claw = pyclaw.Controller()\n",
    "    claw.tfinal = 0.2\n",
    "    claw.solution = pyclaw.Solution(state,domain)\n",
    "    claw.solver = solver\n",
    "    claw.num_output_times = 4000\n",
    "    claw.output_format = None\n",
    "    claw.keep_copy = True\n",
    "    status = claw.run()\n",
    "    \n",
    "    end = time.time()\n",
    "    t_pyclaw.append(end-start)"
   ]
  },
  {
   "cell_type": "code",
   "execution_count": 5,
   "id": "6ed1f409",
   "metadata": {},
   "outputs": [],
   "source": [
    "x_model = np.arange(8192)\n",
    "t_model = np.arange(0,0.2,0.00005)\n",
    "\n",
    "x_model, t_model = np.meshgrid(x_model, t_model)\n",
    "\n",
    "x_model = tf.constant(x_model.flatten(), dtype = 'float32')\n",
    "t_model = tf.constant(t_model.flatten(), dtype = 'float32')\n",
    "\n",
    "x_model = tf.reshape(x_model, shape = (x_model.shape[0], 1))\n",
    "t_model = tf.reshape(t_model, shape = (t_model.shape[0], 1))\n",
    "\n",
    "X_r = tf.concat([t_model, x_model], axis = 1)"
   ]
  },
  {
   "cell_type": "code",
   "execution_count": 6,
   "id": "261a3db0-84c9-4533-b6cd-e5bdd1c91829",
   "metadata": {},
   "outputs": [
    {
     "name": "stdout",
     "output_type": "stream",
     "text": [
      "WARNING:tensorflow:No training configuration found in save file, so the model was *not* compiled. Compile it manually.\n",
      "2022-08-28 19:02:32,294 WARNING CLAW: No training configuration found in save file, so the model was *not* compiled. Compile it manually.\n"
     ]
    }
   ],
   "source": [
    "# Load models:\n",
    "model = tf.keras.models.load_model(\"5-PESOS-FIJOS-RAR/models/model/\")"
   ]
  },
  {
   "cell_type": "code",
   "execution_count": 7,
   "id": "978fa042",
   "metadata": {},
   "outputs": [
    {
     "name": "stderr",
     "output_type": "stream",
     "text": [
      "  0%|                                                   | 0/100 [00:00<?, ?it/s]2022-08-28 19:02:32.317019: I tensorflow/compiler/mlir/mlir_graph_optimization_pass.cc:116] None of the MLIR optimization passes are enabled (registered 2)\n",
      "2022-08-28 19:02:32.342503: I tensorflow/core/platform/profile_utils/cpu_utils.cc:112] CPU Frequency: 2400000000 Hz\n",
      "2022-08-28 19:02:32.369206: I tensorflow/stream_executor/platform/default/dso_loader.cc:49] Successfully opened dynamic library libcublas.so.10\n",
      "100%|█████████████████████████████████████████| 100/100 [01:04<00:00,  1.54it/s]\n"
     ]
    }
   ],
   "source": [
    "t_PINN = []\n",
    "for _ in tqdm(range(n_sim)):\n",
    "    start = time.time()\n",
    "    model(X_r)\n",
    "    end = time.time()\n",
    "    t_PINN.append(end-start)"
   ]
  },
  {
   "cell_type": "code",
   "execution_count": 20,
   "id": "9a9d668b",
   "metadata": {},
   "outputs": [
    {
     "data": {
      "image/png": "[encoded data removed]",
      "text/plain": [
       "<Figure size 1152x432 with 1 Axes>"
      ]
     },
     "metadata": {
      "needs_background": "light"
     },
     "output_type": "display_data"
    }
   ],
   "source": [
    "plt.figure(figsize=(16,9/1.5))\n",
    "plt.hist(t_pyclaw, bins=25)\n",
    "plt.xlabel('Tiempo (s)')\n",
    "plt.ylabel('N')\n",
    "plt.savefig('figs/t_pyclaw.png')"
   ]
  },
  {
   "cell_type": "code",
   "execution_count": 21,
   "id": "5275fbae",
   "metadata": {},
   "outputs": [
    {
     "data": {
      "image/png": "[encoded data removed]",
      "text/plain": [
       "<Figure size 1152x432 with 1 Axes>"
      ]
     },
     "metadata": {
      "needs_background": "light"
     },
     "output_type": "display_data"
    }
   ],
   "source": [
    "plt.figure(figsize=(16,9/1.5))\n",
    "plt.hist(t_PINN, bins=25)\n",
    "plt.xlabel('Tiempo (s)')\n",
    "plt.ylabel('N')\n",
    "plt.savefig('figs/t_PINN.png')"
   ]
  },
  {
   "cell_type": "code",
   "execution_count": 26,
   "id": "902345f0",
   "metadata": {},
   "outputs": [],
   "source": [
    "import pandas as pd"
   ]
  },
  {
   "cell_type": "code",
   "execution_count": 28,
   "id": "2e1db5d1",
   "metadata": {},
   "outputs": [
    {
     "data": {
      "text/html": [
       "<div>\n",
       "<style scoped>\n",
       "    .dataframe tbody tr th:only-of-type {\n",
       "        vertical-align: middle;\n",
       "    }\n",
       "\n",
       "    .dataframe tbody tr th {\n",
       "        vertical-align: top;\n",
       "    }\n",
       "\n",
       "    .dataframe thead th {\n",
       "        text-align: right;\n",
       "    }\n",
       "</style>\n",
       "<table border=\"1\" class=\"dataframe\">\n",
       "  <thead>\n",
       "    <tr style=\"text-align: right;\">\n",
       "      <th></th>\n",
       "      <th>Método</th>\n",
       "      <th>Media</th>\n",
       "      <th>Varianza</th>\n",
       "    </tr>\n",
       "  </thead>\n",
       "  <tbody>\n",
       "    <tr>\n",
       "      <th>0</th>\n",
       "      <td>Pyclaw</td>\n",
       "      <td>18.808201</td>\n",
       "      <td>0.023783</td>\n",
       "    </tr>\n",
       "    <tr>\n",
       "      <th>1</th>\n",
       "      <td>PINN</td>\n",
       "      <td>0.648497</td>\n",
       "      <td>0.010261</td>\n",
       "    </tr>\n",
       "  </tbody>\n",
       "</table>\n",
       "</div>"
      ],
      "text/plain": [
       "   Método      Media  Varianza\n",
       "0  Pyclaw  18.808201  0.023783\n",
       "1    PINN   0.648497  0.010261"
      ]
     },
     "execution_count": 28,
     "metadata": {},
     "output_type": "execute_result"
    }
   ],
   "source": [
    "d = {'Método' : ['Pyclaw', 'PINN'],\n",
    "     'Media' : [np.mean(t_pyclaw), np.mean(t_PINN)],\n",
    "     'Varianza': [np.var(t_pyclaw), np.var(t_PINN)]}\n",
    "\n",
    "pd.DataFrame(d)"
   ]
  },
  {
   "cell_type": "code",
   "execution_count": null,
   "id": "d51c5898",
   "metadata": {},
   "outputs": [],
   "source": []
  }
 ],
 "metadata": {
  "kernelspec": {
   "display_name": "Python [conda env:PINNS]",
   "language": "python",
   "name": "conda-env-PINNS-py"
  },
  "language_info": {
   "codemirror_mode": {
    "name": "ipython",
    "version": 3
   },
   "file_extension": ".py",
   "mimetype": "text/x-python",
   "name": "python",
   "nbconvert_exporter": "python",
   "pygments_lexer": "ipython3",
   "version": "3.9.12"
  }
 },
 "nbformat": 4,
 "nbformat_minor": 5
}
